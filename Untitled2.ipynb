{
 "cells": [
  {
   "cell_type": "code",
   "execution_count": 1,
   "id": "0dbfcd5d-f7ac-410d-b68c-8e8454107e08",
   "metadata": {},
   "outputs": [],
   "source": [
    "import pandas as pd\n",
    "\n",
    "# Load datasets\n",
    "flight_df = pd.read_csv(\"Flight Level Data.csv\")\n",
    "pnr_df = pd.read_csv(\"PNR+Flight+Level+Data.csv\")\n",
    "remarks_df = pd.read_csv(\"PNR Remark Level Data.csv\")\n",
    "bag_df = pd.read_csv(\"Bag+Level+Data.csv\")\n",
    "airports_df = pd.read_csv(\"Airports Data.csv\")\n"
   ]
  },
  {
   "cell_type": "code",
   "execution_count": 2,
   "id": "2717ca62-70e0-42b1-af35-1590f00dda5f",
   "metadata": {},
   "outputs": [
    {
     "name": "stdout",
     "output_type": "stream",
     "text": [
      "(8099, 15)\n",
      "Index(['company_id', 'flight_number', 'scheduled_departure_date_local',\n",
      "       'scheduled_departure_station_code', 'scheduled_arrival_station_code',\n",
      "       'scheduled_departure_datetime_local',\n",
      "       'scheduled_arrival_datetime_local', 'actual_departure_datetime_local',\n",
      "       'actual_arrival_datetime_local', 'total_seats', 'fleet_type', 'carrier',\n",
      "       'scheduled_ground_time_minutes', 'actual_ground_time_minutes',\n",
      "       'minimum_turn_minutes'],\n",
      "      dtype='object')\n",
      "(687878, 12)\n",
      "Index(['company_id', 'flight_number', 'scheduled_departure_date_local',\n",
      "       'scheduled_departure_station_code', 'scheduled_arrival_station_code',\n",
      "       'record_locator', 'pnr_creation_date', 'total_pax', 'is_child',\n",
      "       'basic_economy_ind', 'is_stroller_user', 'lap_child_count'],\n",
      "      dtype='object')\n",
      "(51698, 4)\n",
      "Index(['record_locator', 'pnr_creation_date', 'flight_number',\n",
      "       'special_service_request'],\n",
      "      dtype='object')\n",
      "(687245, 8)\n",
      "Index(['company_id', 'flight_number', 'scheduled_departure_date_local',\n",
      "       'scheduled_departure_station_code', 'scheduled_arrival_station_code',\n",
      "       'bag_tag_unique_number', 'bag_tag_issue_date', 'bag_type'],\n",
      "      dtype='object')\n",
      "(5612, 2)\n",
      "Index(['airport_iata_code', 'iso_country_code'], dtype='object')\n"
     ]
    }
   ],
   "source": [
    "for df in [flight_df, pnr_df, remarks_df, bag_df, airports_df]:\n",
    "    print(df.shape)\n",
    "    print(df.columns)\n"
   ]
  },
  {
   "cell_type": "code",
   "execution_count": 3,
   "id": "ee808f0a-892e-4963-a03f-47b744ebcaf1",
   "metadata": {},
   "outputs": [],
   "source": [
    "# Convert date columns to datetime\n",
    "for col in [\"scheduled_departure_date_local\"]:\n",
    "    flight_df[col] = pd.to_datetime(flight_df[col])\n",
    "    pnr_df[col] = pd.to_datetime(pnr_df[col])\n",
    "    bag_df[col] = pd.to_datetime(bag_df[col])"
   ]
  },
  {
   "cell_type": "code",
   "execution_count": 4,
   "id": "c47d1da8-9686-46d6-979c-24ee8ee7dc51",
   "metadata": {},
   "outputs": [
    {
     "name": "stdout",
     "output_type": "stream",
     "text": [
      "company_id                                  object\n",
      "flight_number                                int64\n",
      "scheduled_departure_date_local      datetime64[ns]\n",
      "scheduled_departure_station_code            object\n",
      "scheduled_arrival_station_code              object\n",
      "record_locator                              object\n",
      "pnr_creation_date                           object\n",
      "total_pax                                    int64\n",
      "is_child                                    object\n",
      "basic_economy_ind                            int64\n",
      "is_stroller_user                            object\n",
      "lap_child_count                              int64\n",
      "dtype: object\n"
     ]
    }
   ],
   "source": [
    "print(pnr_df.dtypes)"
   ]
  },
  {
   "cell_type": "code",
   "execution_count": 5,
   "id": "785b844c-808d-498e-8559-80f74e2e52cb",
   "metadata": {},
   "outputs": [],
   "source": [
    "# Convert Y/N or True/False strings to 1/0\n",
    "pnr_df[\"is_child\"] = pnr_df[\"is_child\"].map({'Y': 1, 'N': 0, 'YES': 1, 'NO': 0, True: 1, False: 0}).fillna(0).astype(int)\n",
    "pnr_df[\"is_stroller_user\"] = pnr_df[\"is_stroller_user\"].map({'Y': 1, 'N': 0, 'YES': 1, 'NO': 0, True: 1, False: 0}).fillna(0).astype(int)\n"
   ]
  },
  {
   "cell_type": "code",
   "execution_count": 6,
   "id": "c128126b-cf4d-4704-801a-fc53922353b3",
   "metadata": {},
   "outputs": [
    {
     "name": "stdout",
     "output_type": "stream",
     "text": [
      "company_id                                  object\n",
      "flight_number                                int64\n",
      "scheduled_departure_date_local      datetime64[ns]\n",
      "scheduled_departure_station_code            object\n",
      "scheduled_arrival_station_code              object\n",
      "record_locator                              object\n",
      "pnr_creation_date                           object\n",
      "total_pax                                    int64\n",
      "is_child                                     int64\n",
      "basic_economy_ind                            int64\n",
      "is_stroller_user                             int64\n",
      "lap_child_count                              int64\n",
      "dtype: object\n"
     ]
    }
   ],
   "source": [
    "print(pnr_df.dtypes)\n"
   ]
  },
  {
   "cell_type": "code",
   "execution_count": 7,
   "id": "928e3d95-cda4-4ec4-8dad-a109fdea7b1c",
   "metadata": {},
   "outputs": [],
   "source": [
    "# each pnr detail\n",
    "pnr_agg = pnr_df.groupby(\n",
    "    [\"company_id\", \"flight_number\", \"scheduled_departure_date_local\",\n",
    "     \"scheduled_departure_station_code\", \"scheduled_arrival_station_code\"],\n",
    "    as_index=False\n",
    ").agg({\n",
    "    \"total_pax\": \"sum\",\n",
    "    \"is_child\": \"sum\",\n",
    "    \"basic_economy_ind\": \"sum\",\n",
    "    \"is_stroller_user\": \"sum\",\n",
    "    \"lap_child_count\": \"sum\"\n",
    "})\n"
   ]
  },
  {
   "cell_type": "code",
   "execution_count": 8,
   "id": "aa58effc-94b4-40d6-9376-27dbdeb1f270",
   "metadata": {},
   "outputs": [
    {
     "data": {
      "text/html": [
       "<div>\n",
       "<style scoped>\n",
       "    .dataframe tbody tr th:only-of-type {\n",
       "        vertical-align: middle;\n",
       "    }\n",
       "\n",
       "    .dataframe tbody tr th {\n",
       "        vertical-align: top;\n",
       "    }\n",
       "\n",
       "    .dataframe thead th {\n",
       "        text-align: right;\n",
       "    }\n",
       "</style>\n",
       "<table border=\"1\" class=\"dataframe\">\n",
       "  <thead>\n",
       "    <tr style=\"text-align: right;\">\n",
       "      <th></th>\n",
       "      <th>company_id</th>\n",
       "      <th>flight_number</th>\n",
       "      <th>scheduled_departure_date_local</th>\n",
       "      <th>scheduled_departure_station_code</th>\n",
       "      <th>scheduled_arrival_station_code</th>\n",
       "      <th>total_pax</th>\n",
       "      <th>is_child</th>\n",
       "      <th>basic_economy_ind</th>\n",
       "      <th>is_stroller_user</th>\n",
       "      <th>lap_child_count</th>\n",
       "    </tr>\n",
       "  </thead>\n",
       "  <tbody>\n",
       "    <tr>\n",
       "      <th>0</th>\n",
       "      <td>G7</td>\n",
       "      <td>4173</td>\n",
       "      <td>2025-08-01</td>\n",
       "      <td>ORD</td>\n",
       "      <td>AVL</td>\n",
       "      <td>56</td>\n",
       "      <td>2</td>\n",
       "      <td>2</td>\n",
       "      <td>0</td>\n",
       "      <td>0</td>\n",
       "    </tr>\n",
       "    <tr>\n",
       "      <th>1</th>\n",
       "      <td>G7</td>\n",
       "      <td>4173</td>\n",
       "      <td>2025-08-03</td>\n",
       "      <td>ORD</td>\n",
       "      <td>AVL</td>\n",
       "      <td>56</td>\n",
       "      <td>2</td>\n",
       "      <td>6</td>\n",
       "      <td>0</td>\n",
       "      <td>0</td>\n",
       "    </tr>\n",
       "    <tr>\n",
       "      <th>2</th>\n",
       "      <td>G7</td>\n",
       "      <td>4173</td>\n",
       "      <td>2025-08-04</td>\n",
       "      <td>ORD</td>\n",
       "      <td>AVL</td>\n",
       "      <td>48</td>\n",
       "      <td>0</td>\n",
       "      <td>0</td>\n",
       "      <td>0</td>\n",
       "      <td>0</td>\n",
       "    </tr>\n",
       "    <tr>\n",
       "      <th>3</th>\n",
       "      <td>G7</td>\n",
       "      <td>4173</td>\n",
       "      <td>2025-08-05</td>\n",
       "      <td>ORD</td>\n",
       "      <td>AVL</td>\n",
       "      <td>46</td>\n",
       "      <td>1</td>\n",
       "      <td>4</td>\n",
       "      <td>0</td>\n",
       "      <td>0</td>\n",
       "    </tr>\n",
       "    <tr>\n",
       "      <th>4</th>\n",
       "      <td>G7</td>\n",
       "      <td>4173</td>\n",
       "      <td>2025-08-06</td>\n",
       "      <td>ORD</td>\n",
       "      <td>AVL</td>\n",
       "      <td>44</td>\n",
       "      <td>0</td>\n",
       "      <td>1</td>\n",
       "      <td>0</td>\n",
       "      <td>0</td>\n",
       "    </tr>\n",
       "  </tbody>\n",
       "</table>\n",
       "</div>"
      ],
      "text/plain": [
       "  company_id  flight_number scheduled_departure_date_local  \\\n",
       "0         G7           4173                     2025-08-01   \n",
       "1         G7           4173                     2025-08-03   \n",
       "2         G7           4173                     2025-08-04   \n",
       "3         G7           4173                     2025-08-05   \n",
       "4         G7           4173                     2025-08-06   \n",
       "\n",
       "  scheduled_departure_station_code scheduled_arrival_station_code  total_pax  \\\n",
       "0                              ORD                            AVL         56   \n",
       "1                              ORD                            AVL         56   \n",
       "2                              ORD                            AVL         48   \n",
       "3                              ORD                            AVL         46   \n",
       "4                              ORD                            AVL         44   \n",
       "\n",
       "   is_child  basic_economy_ind  is_stroller_user  lap_child_count  \n",
       "0         2                  2                 0                0  \n",
       "1         2                  6                 0                0  \n",
       "2         0                  0                 0                0  \n",
       "3         1                  4                 0                0  \n",
       "4         0                  1                 0                0  "
      ]
     },
     "execution_count": 8,
     "metadata": {},
     "output_type": "execute_result"
    }
   ],
   "source": [
    "pnr_agg.head()"
   ]
  },
  {
   "cell_type": "code",
   "execution_count": 9,
   "id": "a40d56d2-d99f-419e-b103-920cb3a82197",
   "metadata": {},
   "outputs": [
    {
     "data": {
      "text/html": [
       "<div>\n",
       "<style scoped>\n",
       "    .dataframe tbody tr th:only-of-type {\n",
       "        vertical-align: middle;\n",
       "    }\n",
       "\n",
       "    .dataframe tbody tr th {\n",
       "        vertical-align: top;\n",
       "    }\n",
       "\n",
       "    .dataframe thead th {\n",
       "        text-align: right;\n",
       "    }\n",
       "</style>\n",
       "<table border=\"1\" class=\"dataframe\">\n",
       "  <thead>\n",
       "    <tr style=\"text-align: right;\">\n",
       "      <th></th>\n",
       "      <th>flight_number</th>\n",
       "      <th>scheduled_departure_date_local</th>\n",
       "      <th>total_pax</th>\n",
       "      <th>is_child</th>\n",
       "      <th>basic_economy_ind</th>\n",
       "      <th>is_stroller_user</th>\n",
       "      <th>lap_child_count</th>\n",
       "    </tr>\n",
       "  </thead>\n",
       "  <tbody>\n",
       "    <tr>\n",
       "      <th>count</th>\n",
       "      <td>8071.000000</td>\n",
       "      <td>8071</td>\n",
       "      <td>8071.000000</td>\n",
       "      <td>8071.000000</td>\n",
       "      <td>8071.000000</td>\n",
       "      <td>8071.000000</td>\n",
       "      <td>8071.000000</td>\n",
       "    </tr>\n",
       "    <tr>\n",
       "      <th>mean</th>\n",
       "      <td>3023.923553</td>\n",
       "      <td>2025-08-07 23:50:54.045347584</td>\n",
       "      <td>128.251889</td>\n",
       "      <td>5.171478</td>\n",
       "      <td>10.169744</td>\n",
       "      <td>1.083137</td>\n",
       "      <td>0.692355</td>\n",
       "    </tr>\n",
       "    <tr>\n",
       "      <th>min</th>\n",
       "      <td>3.000000</td>\n",
       "      <td>2025-08-01 00:00:00</td>\n",
       "      <td>1.000000</td>\n",
       "      <td>0.000000</td>\n",
       "      <td>0.000000</td>\n",
       "      <td>0.000000</td>\n",
       "      <td>0.000000</td>\n",
       "    </tr>\n",
       "    <tr>\n",
       "      <th>25%</th>\n",
       "      <td>1492.000000</td>\n",
       "      <td>2025-08-04 00:00:00</td>\n",
       "      <td>57.000000</td>\n",
       "      <td>1.000000</td>\n",
       "      <td>3.000000</td>\n",
       "      <td>0.000000</td>\n",
       "      <td>0.000000</td>\n",
       "    </tr>\n",
       "    <tr>\n",
       "      <th>50%</th>\n",
       "      <td>2440.000000</td>\n",
       "      <td>2025-08-08 00:00:00</td>\n",
       "      <td>120.000000</td>\n",
       "      <td>4.000000</td>\n",
       "      <td>7.000000</td>\n",
       "      <td>1.000000</td>\n",
       "      <td>0.000000</td>\n",
       "    </tr>\n",
       "    <tr>\n",
       "      <th>75%</th>\n",
       "      <td>4766.000000</td>\n",
       "      <td>2025-08-12 00:00:00</td>\n",
       "      <td>185.500000</td>\n",
       "      <td>7.000000</td>\n",
       "      <td>15.000000</td>\n",
       "      <td>2.000000</td>\n",
       "      <td>1.000000</td>\n",
       "    </tr>\n",
       "    <tr>\n",
       "      <th>max</th>\n",
       "      <td>6004.000000</td>\n",
       "      <td>2025-08-15 00:00:00</td>\n",
       "      <td>530.000000</td>\n",
       "      <td>43.000000</td>\n",
       "      <td>62.000000</td>\n",
       "      <td>12.000000</td>\n",
       "      <td>7.000000</td>\n",
       "    </tr>\n",
       "    <tr>\n",
       "      <th>std</th>\n",
       "      <td>1813.368602</td>\n",
       "      <td>NaN</td>\n",
       "      <td>77.636878</td>\n",
       "      <td>5.170173</td>\n",
       "      <td>9.313229</td>\n",
       "      <td>1.454865</td>\n",
       "      <td>0.959342</td>\n",
       "    </tr>\n",
       "  </tbody>\n",
       "</table>\n",
       "</div>"
      ],
      "text/plain": [
       "       flight_number scheduled_departure_date_local    total_pax     is_child  \\\n",
       "count    8071.000000                           8071  8071.000000  8071.000000   \n",
       "mean     3023.923553  2025-08-07 23:50:54.045347584   128.251889     5.171478   \n",
       "min         3.000000            2025-08-01 00:00:00     1.000000     0.000000   \n",
       "25%      1492.000000            2025-08-04 00:00:00    57.000000     1.000000   \n",
       "50%      2440.000000            2025-08-08 00:00:00   120.000000     4.000000   \n",
       "75%      4766.000000            2025-08-12 00:00:00   185.500000     7.000000   \n",
       "max      6004.000000            2025-08-15 00:00:00   530.000000    43.000000   \n",
       "std      1813.368602                            NaN    77.636878     5.170173   \n",
       "\n",
       "       basic_economy_ind  is_stroller_user  lap_child_count  \n",
       "count        8071.000000       8071.000000      8071.000000  \n",
       "mean           10.169744          1.083137         0.692355  \n",
       "min             0.000000          0.000000         0.000000  \n",
       "25%             3.000000          0.000000         0.000000  \n",
       "50%             7.000000          1.000000         0.000000  \n",
       "75%            15.000000          2.000000         1.000000  \n",
       "max            62.000000         12.000000         7.000000  \n",
       "std             9.313229          1.454865         0.959342  "
      ]
     },
     "execution_count": 9,
     "metadata": {},
     "output_type": "execute_result"
    }
   ],
   "source": [
    "pnr_agg.describe()"
   ]
  },
  {
   "cell_type": "code",
   "execution_count": 10,
   "id": "2bb9de05-a0f5-4e34-a1dc-5d99ba0e051d",
   "metadata": {},
   "outputs": [
    {
     "data": {
      "text/html": [
       "<div>\n",
       "<style scoped>\n",
       "    .dataframe tbody tr th:only-of-type {\n",
       "        vertical-align: middle;\n",
       "    }\n",
       "\n",
       "    .dataframe tbody tr th {\n",
       "        vertical-align: top;\n",
       "    }\n",
       "\n",
       "    .dataframe thead th {\n",
       "        text-align: right;\n",
       "    }\n",
       "</style>\n",
       "<table border=\"1\" class=\"dataframe\">\n",
       "  <thead>\n",
       "    <tr style=\"text-align: right;\">\n",
       "      <th></th>\n",
       "      <th>flight_number</th>\n",
       "      <th>record_locator</th>\n",
       "      <th>special_service_request</th>\n",
       "    </tr>\n",
       "  </thead>\n",
       "  <tbody>\n",
       "    <tr>\n",
       "      <th>0</th>\n",
       "      <td>0</td>\n",
       "      <td>PNR_310433</td>\n",
       "      <td>1</td>\n",
       "    </tr>\n",
       "    <tr>\n",
       "      <th>1</th>\n",
       "      <td>0</td>\n",
       "      <td>PNR_332196</td>\n",
       "      <td>1</td>\n",
       "    </tr>\n",
       "    <tr>\n",
       "      <th>2</th>\n",
       "      <td>0</td>\n",
       "      <td>PNR_374634</td>\n",
       "      <td>1</td>\n",
       "    </tr>\n",
       "    <tr>\n",
       "      <th>3</th>\n",
       "      <td>0</td>\n",
       "      <td>PNR_377345</td>\n",
       "      <td>1</td>\n",
       "    </tr>\n",
       "    <tr>\n",
       "      <th>4</th>\n",
       "      <td>1</td>\n",
       "      <td>PNR_156852</td>\n",
       "      <td>1</td>\n",
       "    </tr>\n",
       "  </tbody>\n",
       "</table>\n",
       "</div>"
      ],
      "text/plain": [
       "   flight_number record_locator  special_service_request\n",
       "0              0     PNR_310433                        1\n",
       "1              0     PNR_332196                        1\n",
       "2              0     PNR_374634                        1\n",
       "3              0     PNR_377345                        1\n",
       "4              1     PNR_156852                        1"
      ]
     },
     "execution_count": 10,
     "metadata": {},
     "output_type": "execute_result"
    }
   ],
   "source": [
    "# ek banda kitne ssr request krra hai per record_locator\n",
    "remarks_agg = remarks_df.groupby(\n",
    "    [\"flight_number\", \"record_locator\"], as_index=False\n",
    ")[\"special_service_request\"].count()\n",
    "\n",
    "remarks_agg.head()"
   ]
  },
  {
   "cell_type": "code",
   "execution_count": 11,
   "id": "b790933e-5e82-4181-a3d3-73a9ceb748c1",
   "metadata": {},
   "outputs": [
    {
     "name": "stderr",
     "output_type": "stream",
     "text": [
      "C:\\Users\\hp\\AppData\\Local\\Temp\\ipykernel_28264\\208271709.py:2: FutureWarning: A value is trying to be set on a copy of a DataFrame or Series through chained assignment using an inplace method.\n",
      "The behavior will change in pandas 3.0. This inplace method will never work because the intermediate object on which we are setting values always behaves as a copy.\n",
      "\n",
      "For example, when doing 'df[col].method(value, inplace=True)', try using 'df.method({col: value}, inplace=True)' or df[col] = df[col].method(value) instead, to perform the operation inplace on the original object.\n",
      "\n",
      "\n",
      "  pnr_remark_merge[\"special_service_request\"].fillna(0, inplace=True)\n"
     ]
    }
   ],
   "source": [
    "pnr_remark_merge = pnr_df.merge(remarks_agg, on=[\"flight_number\", \"record_locator\"], how=\"left\")\n",
    "pnr_remark_merge[\"special_service_request\"].fillna(0, inplace=True)"
   ]
  },
  {
   "cell_type": "code",
   "execution_count": 12,
   "id": "2f860bfa-e9f6-472a-82e5-0f27b5c6c787",
   "metadata": {},
   "outputs": [],
   "source": [
    "pnr_remark_merge[\"special_service_request\"] = pnr_remark_merge[\"special_service_request\"].fillna(0)\n"
   ]
  },
  {
   "cell_type": "code",
   "execution_count": 13,
   "id": "a8f1333b-f71f-4c28-9cf3-e04cf994f030",
   "metadata": {},
   "outputs": [],
   "source": [
    "# ssr in each flight\n",
    "remarks_final = pnr_remark_merge.groupby(\n",
    "    [\"company_id\", \"flight_number\", \"scheduled_departure_date_local\",\n",
    "     \"scheduled_departure_station_code\", \"scheduled_arrival_station_code\"],\n",
    "    as_index=False\n",
    ")[\"special_service_request\"].sum()"
   ]
  },
  {
   "cell_type": "code",
   "execution_count": 14,
   "id": "563bd5ac-3b64-4b50-bb2d-a9c985f516e6",
   "metadata": {},
   "outputs": [],
   "source": [
    "remarks_final.to_csv(\"draftone.csv\")"
   ]
  },
  {
   "cell_type": "code",
   "execution_count": 15,
   "id": "54dfc355-1de5-42b6-8a0b-a9bbd3902c92",
   "metadata": {},
   "outputs": [],
   "source": [
    "# bag count\n",
    "bag_agg = bag_df.groupby(\n",
    "    [\"company_id\", \"flight_number\", \"scheduled_departure_date_local\",\n",
    "     \"scheduled_departure_station_code\", \"scheduled_arrival_station_code\"],\n",
    "    as_index=False\n",
    ").agg(\n",
    "    total_bags = (\"bag_tag_unique_number\", \"count\"),\n",
    "    checked_bags = (\"bag_type\", lambda x: (x == \"Checked\").sum()),\n",
    "    transfer_bags = (\"bag_type\", lambda x: (x == \"Transfer\").sum())\n",
    ")\n",
    "\n",
    "# Create ratio column\n",
    "bag_agg[\"transfer_to_checked_ratio\"] = bag_agg[\"transfer_bags\"] / bag_agg[\"checked_bags\"].replace(0, 1)\n"
   ]
  },
  {
   "cell_type": "code",
   "execution_count": 16,
   "id": "28af861c-174c-4752-ae66-7828e05fda65",
   "metadata": {},
   "outputs": [
    {
     "data": {
      "text/html": [
       "<div>\n",
       "<style scoped>\n",
       "    .dataframe tbody tr th:only-of-type {\n",
       "        vertical-align: middle;\n",
       "    }\n",
       "\n",
       "    .dataframe tbody tr th {\n",
       "        vertical-align: top;\n",
       "    }\n",
       "\n",
       "    .dataframe thead th {\n",
       "        text-align: right;\n",
       "    }\n",
       "</style>\n",
       "<table border=\"1\" class=\"dataframe\">\n",
       "  <thead>\n",
       "    <tr style=\"text-align: right;\">\n",
       "      <th></th>\n",
       "      <th>company_id</th>\n",
       "      <th>flight_number</th>\n",
       "      <th>scheduled_departure_date_local</th>\n",
       "      <th>scheduled_departure_station_code</th>\n",
       "      <th>scheduled_arrival_station_code</th>\n",
       "      <th>total_bags</th>\n",
       "      <th>checked_bags</th>\n",
       "      <th>transfer_bags</th>\n",
       "      <th>transfer_to_checked_ratio</th>\n",
       "    </tr>\n",
       "  </thead>\n",
       "  <tbody>\n",
       "    <tr>\n",
       "      <th>0</th>\n",
       "      <td>4Y</td>\n",
       "      <td>52</td>\n",
       "      <td>2025-08-08</td>\n",
       "      <td>ORD</td>\n",
       "      <td>MSP</td>\n",
       "      <td>1</td>\n",
       "      <td>0</td>\n",
       "      <td>1</td>\n",
       "      <td>1.0</td>\n",
       "    </tr>\n",
       "    <tr>\n",
       "      <th>1</th>\n",
       "      <td>9X</td>\n",
       "      <td>305</td>\n",
       "      <td>2025-08-01</td>\n",
       "      <td>ORD</td>\n",
       "      <td>PIT</td>\n",
       "      <td>1</td>\n",
       "      <td>0</td>\n",
       "      <td>1</td>\n",
       "      <td>1.0</td>\n",
       "    </tr>\n",
       "    <tr>\n",
       "      <th>2</th>\n",
       "      <td>9X</td>\n",
       "      <td>305</td>\n",
       "      <td>2025-08-08</td>\n",
       "      <td>ORD</td>\n",
       "      <td>PIT</td>\n",
       "      <td>1</td>\n",
       "      <td>0</td>\n",
       "      <td>1</td>\n",
       "      <td>1.0</td>\n",
       "    </tr>\n",
       "    <tr>\n",
       "      <th>3</th>\n",
       "      <td>9X</td>\n",
       "      <td>330</td>\n",
       "      <td>2025-08-03</td>\n",
       "      <td>ORD</td>\n",
       "      <td>IAD</td>\n",
       "      <td>1</td>\n",
       "      <td>0</td>\n",
       "      <td>1</td>\n",
       "      <td>1.0</td>\n",
       "    </tr>\n",
       "    <tr>\n",
       "      <th>4</th>\n",
       "      <td>9X</td>\n",
       "      <td>332</td>\n",
       "      <td>2025-08-01</td>\n",
       "      <td>ORD</td>\n",
       "      <td>IAD</td>\n",
       "      <td>1</td>\n",
       "      <td>0</td>\n",
       "      <td>1</td>\n",
       "      <td>1.0</td>\n",
       "    </tr>\n",
       "  </tbody>\n",
       "</table>\n",
       "</div>"
      ],
      "text/plain": [
       "  company_id  flight_number scheduled_departure_date_local  \\\n",
       "0         4Y             52                     2025-08-08   \n",
       "1         9X            305                     2025-08-01   \n",
       "2         9X            305                     2025-08-08   \n",
       "3         9X            330                     2025-08-03   \n",
       "4         9X            332                     2025-08-01   \n",
       "\n",
       "  scheduled_departure_station_code scheduled_arrival_station_code  total_bags  \\\n",
       "0                              ORD                            MSP           1   \n",
       "1                              ORD                            PIT           1   \n",
       "2                              ORD                            PIT           1   \n",
       "3                              ORD                            IAD           1   \n",
       "4                              ORD                            IAD           1   \n",
       "\n",
       "   checked_bags  transfer_bags  transfer_to_checked_ratio  \n",
       "0             0              1                        1.0  \n",
       "1             0              1                        1.0  \n",
       "2             0              1                        1.0  \n",
       "3             0              1                        1.0  \n",
       "4             0              1                        1.0  "
      ]
     },
     "execution_count": 16,
     "metadata": {},
     "output_type": "execute_result"
    }
   ],
   "source": [
    "bag_agg.head()"
   ]
  },
  {
   "cell_type": "code",
   "execution_count": 17,
   "id": "b810183c-28f9-460b-bd7d-96e5b9107e46",
   "metadata": {},
   "outputs": [],
   "source": [
    "master_df = flight_df.copy()"
   ]
  },
  {
   "cell_type": "code",
   "execution_count": 18,
   "id": "c9785aa3-7cea-4d5a-a961-6118f8057371",
   "metadata": {},
   "outputs": [],
   "source": [
    "master_df = master_df.merge(pnr_agg, on=[\"company_id\", \"flight_number\", \"scheduled_departure_date_local\",\n",
    "                                         \"scheduled_departure_station_code\", \"scheduled_arrival_station_code\"],\n",
    "                            how=\"left\")"
   ]
  },
  {
   "cell_type": "code",
   "execution_count": 19,
   "id": "2acc5726-4c49-4625-b523-20b51f80f2d2",
   "metadata": {},
   "outputs": [],
   "source": [
    "master_df = master_df.merge(remarks_final, on=[\"company_id\", \"flight_number\", \"scheduled_departure_date_local\",\n",
    "                                               \"scheduled_departure_station_code\", \"scheduled_arrival_station_code\"],\n",
    "                            how=\"left\")"
   ]
  },
  {
   "cell_type": "code",
   "execution_count": 20,
   "id": "05f27b55-0a5f-4bf0-8b3c-e3e5e6ddbf8a",
   "metadata": {},
   "outputs": [],
   "source": [
    "master_df = master_df.merge(bag_agg, on=[\"company_id\", \"flight_number\", \"scheduled_departure_date_local\",\n",
    "                                         \"scheduled_departure_station_code\", \"scheduled_arrival_station_code\"],\n",
    "                            how=\"left\")"
   ]
  },
  {
   "cell_type": "code",
   "execution_count": 22,
   "id": "047c3682-adb2-4d83-971e-3ebac1efc1c4",
   "metadata": {},
   "outputs": [],
   "source": [
    "master_df.to_csv(\"draft2.csv\")"
   ]
  },
  {
   "cell_type": "code",
   "execution_count": 23,
   "id": "8b67cd97-5704-4692-8a63-49ec69005cc2",
   "metadata": {},
   "outputs": [],
   "source": [
    "master_df.fillna({\n",
    "    \"total_pax\": 0,\n",
    "    \"special_service_request\": 0,\n",
    "    \"checked_bags\": 0,\n",
    "    \"transfer_bags\": 0\n",
    "}, inplace=True)\n"
   ]
  },
  {
   "cell_type": "code",
   "execution_count": 24,
   "id": "90cd86c1-bcc9-4319-9e4c-f76a9ddb8af1",
   "metadata": {},
   "outputs": [
    {
     "name": "stdout",
     "output_type": "stream",
     "text": [
      "(8099, 25)\n",
      "Index(['company_id', 'flight_number', 'scheduled_departure_date_local',\n",
      "       'scheduled_departure_station_code', 'scheduled_arrival_station_code',\n",
      "       'scheduled_departure_datetime_local',\n",
      "       'scheduled_arrival_datetime_local', 'actual_departure_datetime_local',\n",
      "       'actual_arrival_datetime_local', 'total_seats', 'fleet_type', 'carrier',\n",
      "       'scheduled_ground_time_minutes', 'actual_ground_time_minutes',\n",
      "       'minimum_turn_minutes', 'total_pax', 'is_child', 'basic_economy_ind',\n",
      "       'is_stroller_user', 'lap_child_count', 'special_service_request',\n",
      "       'total_bags', 'checked_bags', 'transfer_bags',\n",
      "       'transfer_to_checked_ratio'],\n",
      "      dtype='object')\n"
     ]
    },
    {
     "data": {
      "text/html": [
       "<div>\n",
       "<style scoped>\n",
       "    .dataframe tbody tr th:only-of-type {\n",
       "        vertical-align: middle;\n",
       "    }\n",
       "\n",
       "    .dataframe tbody tr th {\n",
       "        vertical-align: top;\n",
       "    }\n",
       "\n",
       "    .dataframe thead th {\n",
       "        text-align: right;\n",
       "    }\n",
       "</style>\n",
       "<table border=\"1\" class=\"dataframe\">\n",
       "  <thead>\n",
       "    <tr style=\"text-align: right;\">\n",
       "      <th></th>\n",
       "      <th>company_id</th>\n",
       "      <th>flight_number</th>\n",
       "      <th>scheduled_departure_date_local</th>\n",
       "      <th>scheduled_departure_station_code</th>\n",
       "      <th>scheduled_arrival_station_code</th>\n",
       "      <th>scheduled_departure_datetime_local</th>\n",
       "      <th>scheduled_arrival_datetime_local</th>\n",
       "      <th>actual_departure_datetime_local</th>\n",
       "      <th>actual_arrival_datetime_local</th>\n",
       "      <th>total_seats</th>\n",
       "      <th>...</th>\n",
       "      <th>total_pax</th>\n",
       "      <th>is_child</th>\n",
       "      <th>basic_economy_ind</th>\n",
       "      <th>is_stroller_user</th>\n",
       "      <th>lap_child_count</th>\n",
       "      <th>special_service_request</th>\n",
       "      <th>total_bags</th>\n",
       "      <th>checked_bags</th>\n",
       "      <th>transfer_bags</th>\n",
       "      <th>transfer_to_checked_ratio</th>\n",
       "    </tr>\n",
       "  </thead>\n",
       "  <tbody>\n",
       "    <tr>\n",
       "      <th>0</th>\n",
       "      <td>OO</td>\n",
       "      <td>4792</td>\n",
       "      <td>2025-08-04</td>\n",
       "      <td>ORD</td>\n",
       "      <td>ROA</td>\n",
       "      <td>2025-08-04T17:57:00Z</td>\n",
       "      <td>2025-08-04T21:04:00Z</td>\n",
       "      <td>2025-08-04T18:04:00Z</td>\n",
       "      <td>2025-08-04T20:52:00Z</td>\n",
       "      <td>76</td>\n",
       "      <td>...</td>\n",
       "      <td>65</td>\n",
       "      <td>1</td>\n",
       "      <td>7</td>\n",
       "      <td>0</td>\n",
       "      <td>0</td>\n",
       "      <td>3.0</td>\n",
       "      <td>42.0</td>\n",
       "      <td>0.0</td>\n",
       "      <td>20.0</td>\n",
       "      <td>20.0</td>\n",
       "    </tr>\n",
       "    <tr>\n",
       "      <th>1</th>\n",
       "      <td>UA</td>\n",
       "      <td>920</td>\n",
       "      <td>2025-08-03</td>\n",
       "      <td>ORD</td>\n",
       "      <td>LHR</td>\n",
       "      <td>2025-08-03T18:05:00Z</td>\n",
       "      <td>2025-08-04T08:20:00Z</td>\n",
       "      <td>2025-08-03T18:27:00Z</td>\n",
       "      <td>2025-08-04T08:06:00Z</td>\n",
       "      <td>167</td>\n",
       "      <td>...</td>\n",
       "      <td>171</td>\n",
       "      <td>5</td>\n",
       "      <td>0</td>\n",
       "      <td>0</td>\n",
       "      <td>1</td>\n",
       "      <td>3.0</td>\n",
       "      <td>143.0</td>\n",
       "      <td>0.0</td>\n",
       "      <td>37.0</td>\n",
       "      <td>37.0</td>\n",
       "    </tr>\n",
       "    <tr>\n",
       "      <th>2</th>\n",
       "      <td>UA</td>\n",
       "      <td>1776</td>\n",
       "      <td>2025-08-10</td>\n",
       "      <td>ORD</td>\n",
       "      <td>PHL</td>\n",
       "      <td>2025-08-10T18:20:00Z</td>\n",
       "      <td>2025-08-10T21:35:00Z</td>\n",
       "      <td>2025-08-10T20:11:00Z</td>\n",
       "      <td>2025-08-10T23:26:00Z</td>\n",
       "      <td>166</td>\n",
       "      <td>...</td>\n",
       "      <td>180</td>\n",
       "      <td>5</td>\n",
       "      <td>18</td>\n",
       "      <td>2</td>\n",
       "      <td>0</td>\n",
       "      <td>0.0</td>\n",
       "      <td>85.0</td>\n",
       "      <td>0.0</td>\n",
       "      <td>38.0</td>\n",
       "      <td>38.0</td>\n",
       "    </tr>\n",
       "    <tr>\n",
       "      <th>3</th>\n",
       "      <td>OO</td>\n",
       "      <td>5790</td>\n",
       "      <td>2025-08-06</td>\n",
       "      <td>ORD</td>\n",
       "      <td>CRW</td>\n",
       "      <td>2025-08-06T18:20:00Z</td>\n",
       "      <td>2025-08-06T21:04:00Z</td>\n",
       "      <td>2025-08-06T20:05:00Z</td>\n",
       "      <td>2025-08-06T22:42:00Z</td>\n",
       "      <td>50</td>\n",
       "      <td>...</td>\n",
       "      <td>55</td>\n",
       "      <td>2</td>\n",
       "      <td>2</td>\n",
       "      <td>0</td>\n",
       "      <td>0</td>\n",
       "      <td>2.0</td>\n",
       "      <td>54.0</td>\n",
       "      <td>0.0</td>\n",
       "      <td>40.0</td>\n",
       "      <td>40.0</td>\n",
       "    </tr>\n",
       "    <tr>\n",
       "      <th>4</th>\n",
       "      <td>UA</td>\n",
       "      <td>1398</td>\n",
       "      <td>2025-08-05</td>\n",
       "      <td>ORD</td>\n",
       "      <td>ATL</td>\n",
       "      <td>2025-08-05T18:20:00Z</td>\n",
       "      <td>2025-08-05T21:29:00Z</td>\n",
       "      <td>2025-08-05T18:16:00Z</td>\n",
       "      <td>2025-08-05T21:49:00Z</td>\n",
       "      <td>166</td>\n",
       "      <td>...</td>\n",
       "      <td>136</td>\n",
       "      <td>3</td>\n",
       "      <td>11</td>\n",
       "      <td>0</td>\n",
       "      <td>0</td>\n",
       "      <td>2.0</td>\n",
       "      <td>70.0</td>\n",
       "      <td>0.0</td>\n",
       "      <td>51.0</td>\n",
       "      <td>51.0</td>\n",
       "    </tr>\n",
       "  </tbody>\n",
       "</table>\n",
       "<p>5 rows × 25 columns</p>\n",
       "</div>"
      ],
      "text/plain": [
       "  company_id  flight_number scheduled_departure_date_local  \\\n",
       "0         OO           4792                     2025-08-04   \n",
       "1         UA            920                     2025-08-03   \n",
       "2         UA           1776                     2025-08-10   \n",
       "3         OO           5790                     2025-08-06   \n",
       "4         UA           1398                     2025-08-05   \n",
       "\n",
       "  scheduled_departure_station_code scheduled_arrival_station_code  \\\n",
       "0                              ORD                            ROA   \n",
       "1                              ORD                            LHR   \n",
       "2                              ORD                            PHL   \n",
       "3                              ORD                            CRW   \n",
       "4                              ORD                            ATL   \n",
       "\n",
       "  scheduled_departure_datetime_local scheduled_arrival_datetime_local  \\\n",
       "0               2025-08-04T17:57:00Z             2025-08-04T21:04:00Z   \n",
       "1               2025-08-03T18:05:00Z             2025-08-04T08:20:00Z   \n",
       "2               2025-08-10T18:20:00Z             2025-08-10T21:35:00Z   \n",
       "3               2025-08-06T18:20:00Z             2025-08-06T21:04:00Z   \n",
       "4               2025-08-05T18:20:00Z             2025-08-05T21:29:00Z   \n",
       "\n",
       "  actual_departure_datetime_local actual_arrival_datetime_local  total_seats  \\\n",
       "0            2025-08-04T18:04:00Z          2025-08-04T20:52:00Z           76   \n",
       "1            2025-08-03T18:27:00Z          2025-08-04T08:06:00Z          167   \n",
       "2            2025-08-10T20:11:00Z          2025-08-10T23:26:00Z          166   \n",
       "3            2025-08-06T20:05:00Z          2025-08-06T22:42:00Z           50   \n",
       "4            2025-08-05T18:16:00Z          2025-08-05T21:49:00Z          166   \n",
       "\n",
       "   ... total_pax is_child  basic_economy_ind  is_stroller_user  \\\n",
       "0  ...        65        1                  7                 0   \n",
       "1  ...       171        5                  0                 0   \n",
       "2  ...       180        5                 18                 2   \n",
       "3  ...        55        2                  2                 0   \n",
       "4  ...       136        3                 11                 0   \n",
       "\n",
       "   lap_child_count  special_service_request  total_bags  checked_bags  \\\n",
       "0                0                      3.0        42.0           0.0   \n",
       "1                1                      3.0       143.0           0.0   \n",
       "2                0                      0.0        85.0           0.0   \n",
       "3                0                      2.0        54.0           0.0   \n",
       "4                0                      2.0        70.0           0.0   \n",
       "\n",
       "   transfer_bags  transfer_to_checked_ratio  \n",
       "0           20.0                       20.0  \n",
       "1           37.0                       37.0  \n",
       "2           38.0                       38.0  \n",
       "3           40.0                       40.0  \n",
       "4           51.0                       51.0  \n",
       "\n",
       "[5 rows x 25 columns]"
      ]
     },
     "execution_count": 24,
     "metadata": {},
     "output_type": "execute_result"
    }
   ],
   "source": [
    "print(master_df.shape)\n",
    "print(master_df.columns)\n",
    "master_df.head()\n"
   ]
  },
  {
   "cell_type": "code",
   "execution_count": 26,
   "id": "ffe88518-bf5b-43ff-97b7-c0663e31f158",
   "metadata": {},
   "outputs": [
    {
     "data": {
      "text/plain": [
       "count    10863.000000\n",
       "mean        63.264752\n",
       "std         55.136833\n",
       "min          1.000000\n",
       "25%         25.000000\n",
       "50%         51.000000\n",
       "75%         93.000000\n",
       "max        461.000000\n",
       "Name: total_bags, dtype: float64"
      ]
     },
     "execution_count": 26,
     "metadata": {},
     "output_type": "execute_result"
    }
   ],
   "source": [
    "bag_agg[\"total_bags\"].describe()\n"
   ]
  },
  {
   "cell_type": "markdown",
   "id": "e83c603a-768f-40ed-9c37-d8dd6d31e5fa",
   "metadata": {
    "jp-MarkdownHeadingCollapsed": true
   },
   "source": [
    "# EDA"
   ]
  },
  {
   "cell_type": "markdown",
   "id": "7ab19394-2c82-41de-b081-d48ad8b393af",
   "metadata": {},
   "source": [
    "## 1. What is the average delay and what percentage of flights depart later than scheduled?"
   ]
  },
  {
   "cell_type": "code",
   "execution_count": 41,
   "id": "8844044e-a0b1-4dcb-9a8a-b2016156c382",
   "metadata": {},
   "outputs": [
    {
     "name": "stdout",
     "output_type": "stream",
     "text": [
      "Average Delay: 21.18 mins, % Late Flights: 49.61%\n"
     ]
    }
   ],
   "source": [
    "master_df[\"scheduled_departure_datetime_local\"] = pd.to_datetime(\n",
    "    master_df[\"scheduled_departure_datetime_local\"], errors=\"coerce\"\n",
    ")\n",
    "master_df[\"actual_departure_datetime_local\"] = pd.to_datetime(\n",
    "    master_df[\"actual_departure_datetime_local\"], errors=\"coerce\"\n",
    ")\n",
    "\n",
    "# Calculate departure delay in minutes\n",
    "master_df[\"departure_delay_mins\"] = (\n",
    "    (master_df[\"actual_departure_datetime_local\"] - master_df[\"scheduled_departure_datetime_local\"])\n",
    "    .dt.total_seconds() / 60\n",
    ")\n",
    "\n",
    "# Optional: replace NaN with 0 if needed\n",
    "master_df[\"departure_delay_mins\"] = master_df[\"departure_delay_mins\"].fillna(0)\n",
    "\n",
    "# Quick stats\n",
    "avg_delay = master_df[\"departure_delay_mins\"].mean()\n",
    "late_percent = (master_df[\"departure_delay_mins\"] > 0).mean() * 100\n",
    "print(f\"Average Delay: {avg_delay:.2f} mins, % Late Flights: {late_percent:.2f}%\")\n"
   ]
  },
  {
   "cell_type": "markdown",
   "id": "886c67d9-f6c3-49c5-8a35-38e8d4b6766a",
   "metadata": {},
   "source": [
    "## 2. How many flights have scheduled ground time close to or below the minimum turn mins?\n"
   ]
  },
  {
   "cell_type": "code",
   "execution_count": 42,
   "id": "70a6278c-7259-4be9-9316-2ff7195bd55b",
   "metadata": {},
   "outputs": [
    {
     "name": "stdout",
     "output_type": "stream",
     "text": [
      "Tight Turn Flights: 652 (8.05%)\n"
     ]
    }
   ],
   "source": [
    "master_df[\"ground_time_gap\"] = master_df[\"scheduled_ground_time_minutes\"] - master_df[\"minimum_turn_minutes\"]\n",
    "\n",
    "tight_turns = (master_df[\"ground_time_gap\"] <= 0).sum()\n",
    "tight_percent = (master_df[\"ground_time_gap\"] <= 0).mean() * 100\n",
    "print(f\"Tight Turn Flights: {tight_turns} ({tight_percent:.2f}%)\")\n",
    "\n",
    "\n",
    "### Flights close to or below minimum turn are high difficulty."
   ]
  },
  {
   "cell_type": "markdown",
   "id": "336f970a-afbc-4914-8007-73fd5408f3ce",
   "metadata": {},
   "source": [
    "## 3. What is the average ratio of transfer bags vs. checked bags across flights?"
   ]
  },
  {
   "cell_type": "code",
   "execution_count": 43,
   "id": "22a5d930-dbad-4f19-87bf-979478e04182",
   "metadata": {},
   "outputs": [
    {
     "name": "stdout",
     "output_type": "stream",
     "text": [
      "count    8095.000000\n",
      "mean        0.515564\n",
      "std         0.230021\n",
      "min         0.000000\n",
      "25%         0.342105\n",
      "50%         0.515152\n",
      "75%         0.688242\n",
      "max         1.000000\n",
      "Name: transfer_ratio, dtype: float64\n"
     ]
    }
   ],
   "source": [
    "# Transfer bag ratio\n",
    "master_df[\"transfer_ratio\"] = master_df[\"transfer_bags\"] / master_df[\"total_bags\"]\n",
    "\n",
    "# Summary stats\n",
    "print(master_df[\"transfer_ratio\"].describe())\n",
    "\n"
   ]
  },
  {
   "cell_type": "markdown",
   "id": "9795f2f3-19d6-429d-af2d-d300e87a888a",
   "metadata": {},
   "source": [
    "## 4. How do passenger loads compare across flights, and do higher loads correlate with operational difficulty?\n"
   ]
  },
  {
   "cell_type": "code",
   "execution_count": 44,
   "id": "971d6022-f78b-4a68-9143-69bfbb3a77d0",
   "metadata": {},
   "outputs": [
    {
     "name": "stdout",
     "output_type": "stream",
     "text": [
      "count    8099.000000\n",
      "mean        1.024236\n",
      "std         0.209837\n",
      "min         0.060000\n",
      "25%         0.940000\n",
      "50%         1.047619\n",
      "75%         1.145251\n",
      "max         1.895000\n",
      "Name: load_factor, dtype: float64\n"
     ]
    }
   ],
   "source": [
    "master_df[\"load_factor\"] = master_df[\"total_pax\"] / master_df[\"total_seats\"]\n",
    "\n",
    "# Summary\n",
    "print(master_df[\"load_factor\"].describe())\n"
   ]
  },
  {
   "cell_type": "markdown",
   "id": "ebe7ff94-8bf5-48ad-b5eb-fd139368e371",
   "metadata": {},
   "source": [
    "## 5.Are high special service requests flights also high-delay after controlling for load?\n"
   ]
  },
  {
   "cell_type": "code",
   "execution_count": 45,
   "id": "2557e2b2-40a2-4735-87cd-1b9af8226651",
   "metadata": {},
   "outputs": [
    {
     "data": {
      "image/png": "[encoded data removed]",
      "text/plain": [
       "<Figure size 640x480 with 1 Axes>"
      ]
     },
     "metadata": {},
     "output_type": "display_data"
    }
   ],
   "source": [
    "# Ensure NaNs are handled\n",
    "master_df[\"special_service_request\"] = master_df[\"special_service_request\"].fillna(0)\n",
    "\n",
    "# Optional: visualize correlation with delay\n",
    "import seaborn as sns\n",
    "import matplotlib.pyplot as plt\n",
    "\n",
    "sns.scatterplot(\n",
    "    data=master_df,\n",
    "    x=\"special_service_request\",\n",
    "    y=\"departure_delay_mins\"\n",
    ")\n",
    "plt.title(\"Special Service Requests vs Departure Delay\")\n",
    "plt.show()\n"
   ]
  },
  {
   "cell_type": "markdown",
   "id": "013e24cc-9cb8-4b50-94ed-825752bed624",
   "metadata": {},
   "source": [
    "# Flight Difficulty Score Development"
   ]
  },
  {
   "cell_type": "code",
   "execution_count": 46,
   "id": "036f087f-9d5c-4121-a603-43fd97a3e194",
   "metadata": {},
   "outputs": [],
   "source": [
    "# Load factor = total passengers / total seats\n",
    "master_df[\"load_factor\"] = master_df[\"total_pax\"] / master_df[\"total_seats\"]\n"
   ]
  },
  {
   "cell_type": "code",
   "execution_count": 47,
   "id": "ff289adf-be4d-48c9-b9c6-3d916ab18af5",
   "metadata": {},
   "outputs": [],
   "source": [
    "# Convert is_child to numeric if object\n",
    "master_df[\"is_child\"] = pd.to_numeric(master_df[\"is_child\"], errors='coerce').fillna(0)\n",
    "\n",
    "# Total children = is_child + lap_child_count\n",
    "master_df[\"total_children\"] = master_df[\"is_child\"] + master_df[\"lap_child_count\"]\n"
   ]
  },
  {
   "cell_type": "code",
   "execution_count": 48,
   "id": "c8214ff8-f888-40a2-ad37-ef965b2cc000",
   "metadata": {},
   "outputs": [],
   "source": [
    "master_df[\"ground_time_gap\"] = master_df[\"scheduled_ground_time_minutes\"] - master_df[\"minimum_turn_minutes\"]\n"
   ]
  },
  {
   "cell_type": "code",
   "execution_count": 49,
   "id": "3e771643-2c81-4b1e-8c38-9f9e3e162ea0",
   "metadata": {},
   "outputs": [],
   "source": [
    "master_df[\"transfer_ratio\"] = master_df[\"transfer_bags\"] / master_df[\"total_bags\"]\n"
   ]
  },
  {
   "cell_type": "code",
   "execution_count": 53,
   "id": "4cb1b49e-a078-4f04-8a95-4b1c948bdd89",
   "metadata": {},
   "outputs": [],
   "source": [
    "master_df[\"special_service_request\"] = pd.to_numeric(master_df[\"special_service_request\"], errors='coerce').fillna(0)\n",
    "\n",
    "### Now master_df has all the necessary features for difficulty scoring:\n",
    "# load_factor\n",
    "\n",
    "# transfer_ratio\n",
    "\n",
    "# ground_time_gap\n",
    "\n",
    "# special_service_request\n",
    "\n",
    "# total_children\n",
    "\n",
    "# basic_economy_ind"
   ]
  },
  {
   "cell_type": "code",
   "execution_count": 54,
   "id": "afff750f-dceb-45b7-9a42-6f38d9e8d113",
   "metadata": {},
   "outputs": [],
   "source": [
    "from sklearn.preprocessing import MinMaxScaler\n",
    "\n",
    "features = [\"load_factor\", \"transfer_ratio\", \"ground_time_gap\", \n",
    "            \"special_service_request\", \"total_children\", \"basic_economy_ind\"]\n",
    "\n",
    "scaler = MinMaxScaler()\n",
    "master_df_scaled = master_df.copy()\n",
    "master_df_scaled[features] = scaler.fit_transform(master_df_scaled[features].fillna(0))\n"
   ]
  },
  {
   "cell_type": "code",
   "execution_count": 55,
   "id": "bddacd7a-1157-4494-9fc0-07bb5febfabb",
   "metadata": {},
   "outputs": [],
   "source": [
    "master_df_scaled[\"difficulty_score\"] = (\n",
    "    0.25 * master_df_scaled[\"load_factor\"] +\n",
    "    0.20 * master_df_scaled[\"transfer_ratio\"] +\n",
    "    0.20 * (1 - master_df_scaled[\"ground_time_gap\"]) +  # shorter ground time = higher difficulty\n",
    "    0.15 * master_df_scaled[\"special_service_request\"] +\n",
    "    0.10 * master_df_scaled[\"total_children\"] +\n",
    "    0.10 * master_df_scaled[\"basic_economy_ind\"]\n",
    ")\n"
   ]
  },
  {
   "cell_type": "code",
   "execution_count": 56,
   "id": "bf477740-8fb7-4984-94e4-59cbaaf01c66",
   "metadata": {},
   "outputs": [],
   "source": [
    "# Daily rank\n",
    "master_df_scaled[\"daily_rank\"] = master_df_scaled.groupby(\"scheduled_departure_date_local\")[\"difficulty_score\"] \\\n",
    "                                        .rank(ascending=False)\n",
    "\n",
    "# Daily classification (Easy / Medium / Difficult)\n",
    "master_df_scaled[\"difficulty_class\"] = master_df_scaled.groupby(\"scheduled_departure_date_local\")[\"daily_rank\"] \\\n",
    "                                        .transform(lambda x: pd.qcut(x, 3, labels=[\"Easy\", \"Medium\", \"Difficult\"]))\n"
   ]
  },
  {
   "cell_type": "code",
   "execution_count": 57,
   "id": "5f0c3014-bdf2-40e6-aa61-2128068189d0",
   "metadata": {},
   "outputs": [],
   "source": [
    "master_df_scaled.to_csv(\"draft3.csv\")"
   ]
  },
  {
   "cell_type": "markdown",
   "id": "428c7d3b-0940-454f-bd42-38bd7f972697",
   "metadata": {},
   "source": [
    "# Post-Analysis & Operational Insights"
   ]
  },
  {
   "cell_type": "markdown",
   "id": "2b8c934b-daec-4c44-9e34-30ba84a883fb",
   "metadata": {},
   "source": [
    "## Identify Destinations with Most Difficult Flights"
   ]
  },
  {
   "cell_type": "code",
   "execution_count": 66,
   "id": "794c006e-fa91-4f34-9322-face727da43b",
   "metadata": {},
   "outputs": [
    {
     "name": "stdout",
     "output_type": "stream",
     "text": [
      "scheduled_arrival_station_code\n",
      "GUA    0.605360\n",
      "HNL    0.569221\n",
      "OGG    0.553977\n",
      "BRU    0.553390\n",
      "GRU    0.547068\n",
      "ORF    0.544299\n",
      "NAS    0.537456\n",
      "BTV    0.534414\n",
      "FRA    0.533061\n",
      "ANC    0.531182\n",
      "Name: difficulty_score, dtype: float64\n"
     ]
    }
   ],
   "source": [
    "dest_diff = master_df_scaled.groupby(\"scheduled_arrival_station_code\")[\"difficulty_score\"] \\\n",
    "                            .mean() \\\n",
    "                            .sort_values(ascending=False)\n",
    "\n",
    "print(dest_diff.head(10))\n",
    "\n",
    "\n",
    "### This tells us top 10 destinations that require extra planning."
   ]
  },
  {
   "cell_type": "code",
   "execution_count": 68,
   "id": "0a0bf141-4012-4425-b98b-c96ae8f4e0ea",
   "metadata": {},
   "outputs": [
    {
     "data": {
      "image/png": "[encoded data removed]",
      "text/plain": [
       "<Figure size 1000x600 with 1 Axes>"
      ]
     },
     "metadata": {},
     "output_type": "display_data"
    }
   ],
   "source": [
    "import matplotlib.pyplot as plt\n",
    "\n",
    "# Top 10 difficult destinations\n",
    "top_dest = dest_diff.head(10)\n",
    "\n",
    "# Horizontal bar chart\n",
    "plt.figure(figsize=(10,6))\n",
    "top_dest.plot(kind='barh', color='tomato')\n",
    "plt.xlabel(\"Average Difficulty Score\")\n",
    "plt.ylabel(\"Arrival Airport\")\n",
    "plt.title(\"Top 10 Most Difficult Flight Destinations\")\n",
    "plt.gca().invert_yaxis()  # highest score on top\n",
    "plt.show()\n"
   ]
  },
  {
   "cell_type": "markdown",
   "id": "ca39a0aa-67c6-49c2-a233-1bee9eb99a90",
   "metadata": {},
   "source": [
    "## Identify Main Drivers of Difficulty"
   ]
  },
  {
   "cell_type": "code",
   "execution_count": 63,
   "id": "7f770744-a469-4b1a-b64d-4095e7e3e6df",
   "metadata": {},
   "outputs": [
    {
     "name": "stdout",
     "output_type": "stream",
     "text": [
      "difficulty_score           1.000000\n",
      "load_factor                0.591829\n",
      "transfer_ratio             0.528184\n",
      "total_children             0.479280\n",
      "special_service_request    0.395292\n",
      "basic_economy_ind          0.296908\n",
      "ground_time_gap           -0.080433\n",
      "Name: difficulty_score, dtype: float64\n"
     ]
    }
   ],
   "source": [
    "corr = master_df_scaled[[\"load_factor\", \"transfer_ratio\", \"ground_time_gap\",\n",
    "                         \"special_service_request\", \"total_children\",\n",
    "                         \"basic_economy_ind\", \"difficulty_score\"]].corr()\n",
    "\n",
    "print(corr[\"difficulty_score\"].sort_values(ascending=False))"
   ]
  },
  {
   "cell_type": "code",
   "execution_count": 64,
   "id": "13fbb845-54ec-483c-883c-49e92d93bace",
   "metadata": {},
   "outputs": [
    {
     "data": {
      "image/png": "[encoded data removed]",
      "text/plain": [
       "<Figure size 640x480 with 2 Axes>"
      ]
     },
     "metadata": {},
     "output_type": "display_data"
    }
   ],
   "source": [
    "import seaborn as sns\n",
    "import matplotlib.pyplot as plt\n",
    "\n",
    "sns.heatmap(corr, annot=True, cmap=\"coolwarm\")\n",
    "plt.title(\"Feature Correlation with Difficulty Score\")\n",
    "plt.show()"
   ]
  },
  {
   "cell_type": "markdown",
   "id": "5b7617e4-6a3a-4fa1-848d-7a9556893b59",
   "metadata": {},
   "source": [
    "## Difficulty Classes Distribution"
   ]
  },
  {
   "cell_type": "code",
   "execution_count": 71,
   "id": "1bc6ee4c-b670-437d-a20f-a200df65f6d2",
   "metadata": {},
   "outputs": [
    {
     "data": {
      "text/plain": [
       "difficulty_class\n",
       "Difficult    2705\n",
       "Easy         2700\n",
       "Medium       2694\n",
       "Name: count, dtype: int64"
      ]
     },
     "execution_count": 71,
     "metadata": {},
     "output_type": "execute_result"
    }
   ],
   "source": [
    "master_df_scaled[\"difficulty_class\"].value_counts()\n",
    "\n"
   ]
  },
  {
   "cell_type": "code",
   "execution_count": 72,
   "id": "6a56c261-b66b-46c7-879c-e4d4855398f4",
   "metadata": {},
   "outputs": [
    {
     "data": {
      "image/png": "[encoded data removed]",
      "text/plain": [
       "<Figure size 640x480 with 1 Axes>"
      ]
     },
     "metadata": {},
     "output_type": "display_data"
    }
   ],
   "source": [
    "import seaborn as sns\n",
    "import matplotlib.pyplot as plt\n",
    "\n",
    "sns.countplot(x=\"difficulty_class\", data=master_df_scaled, color=\"mediumseagreen\")\n",
    "plt.title(\"Number of Flights by Difficulty Class\")\n",
    "plt.xlabel(\"Difficulty Class\")\n",
    "plt.ylabel(\"Number of Flights\")\n",
    "plt.show()\n"
   ]
  },
  {
   "cell_type": "markdown",
   "id": "2a03b6a5-c005-4fdf-bda4-bbb6526e1f77",
   "metadata": {},
   "source": [
    "## Ground Time Gap vs Difficulty Score"
   ]
  },
  {
   "cell_type": "code",
   "execution_count": 73,
   "id": "9530758b-22fb-4504-8458-74e0413de7c2",
   "metadata": {},
   "outputs": [
    {
     "data": {
      "image/png": "[encoded data removed]",
      "text/plain": [
       "<Figure size 640x480 with 1 Axes>"
      ]
     },
     "metadata": {},
     "output_type": "display_data"
    }
   ],
   "source": [
    "sns.scatterplot(data=master_df_scaled, x=\"ground_time_gap\", y=\"difficulty_score\")\n",
    "plt.title(\"Ground Time Gap vs Difficulty Score\")\n",
    "plt.xlabel(\"Ground Time Gap (minutes)\")\n",
    "plt.ylabel(\"Difficulty Score\")\n",
    "plt.show()\n",
    "\n",
    "### Insight: Flights with smaller ground_time_gap tend to have higher difficulty scores."
   ]
  },
  {
   "cell_type": "markdown",
   "id": "6d71674e-68f7-4d17-bf82-3cb532a617ba",
   "metadata": {},
   "source": [
    "## Histogram: Total Bags per Flight(Shows baggage load distribution.)"
   ]
  },
  {
   "cell_type": "code",
   "execution_count": 75,
   "id": "89699c79-14e1-4743-a5bd-36e648f9016b",
   "metadata": {},
   "outputs": [
    {
     "data": {
      "image/png": "[encoded data removed]",
      "text/plain": [
       "<Figure size 640x480 with 1 Axes>"
      ]
     },
     "metadata": {},
     "output_type": "display_data"
    }
   ],
   "source": [
    "plt.hist(master_df_scaled[\"total_bags\"], bins=20, color=\"salmon\", edgecolor=\"black\")\n",
    "plt.title(\"Distribution of Total Bags per Flight\")\n",
    "plt.xlabel(\"Number of Bags\")\n",
    "plt.ylabel(\"Number of Flights\")\n",
    "plt.show()\n"
   ]
  },
  {
   "cell_type": "markdown",
   "id": "b91f6dd0-ff7b-4216-a601-48489a1cff23",
   "metadata": {},
   "source": [
    "# Operational Recommendations for Better Efficiency\n",
    "\n",
    "### Based on the Flight Difficulty Score analysis, several key operational improvements are recommended to optimize flight handling at Chicago O’Hare (ORD). Flights with higher passenger loads tend to be more complex, so allocating additional boarding staff and gate resources for these flights can help ensure timely departures. Short ground times between flights increase operational stress; therefore, adjusting schedules to provide sufficient turnaround buffers and prioritizing quick cleaning, refueling, and baggage operations for tight-turn flights is essential. Flights with a large number of transfer bags require extra handling, so assigning additional baggage staff and ensuring efficient transfer tracking can reduce delays. Special service requests, such as wheelchair assistance, also add complexity, making it important to deploy dedicated agents for passenger assistance and pre-plan for high-SSR flights. Flights with more children onboard, including lap infants, can increase boarding time; providing priority boarding lanes or dedicated staff to assist families can help mitigate this challenge. Additionally, flights with higher numbers of basic economy passengers may experience boarding delays due to carry-on restrictions, so structured boarding groups and clear communication can expedite the process. Finally, certain destinations consistently appear as more difficult; pre-positioning extra resources, such as ground staff and baggage handlers, at these airports can further reduce operational strain. Overall, by prioritizing resources based on daily difficulty scores and proactively addressing key operational drivers, airlines can reduce delays, improve passenger experience, and optimize the allocation of frontline operational resources."
   ]
  },
  {
   "cell_type": "code",
   "execution_count": null,
   "id": "fd9a8a5d-a3da-4c5a-83b1-a4cb9f574d7b",
   "metadata": {},
   "outputs": [],
   "source": []
  }
 ],
 "metadata": {
  "kernelspec": {
   "display_name": "Python [conda env:base] *",
   "language": "python",
   "name": "conda-base-py"
  },
  "language_info": {
   "codemirror_mode": {
    "name": "ipython",
    "version": 3
   },
   "file_extension": ".py",
   "mimetype": "text/x-python",
   "name": "python",
   "nbconvert_exporter": "python",
   "pygments_lexer": "ipython3",
   "version": "3.13.5"
  }
 },
 "nbformat": 4,
 "nbformat_minor": 5
}
